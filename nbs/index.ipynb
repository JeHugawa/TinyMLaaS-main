{
 "cells": [
  {
   "cell_type": "code",
   "execution_count": null,
   "metadata": {},
   "outputs": [],
   "source": [
    "#| hide\n",
    "from nbdev.showdoc import *"
   ]
  },
  {
   "cell_type": "markdown",
   "metadata": {},
   "source": [
    "# TinyMLaaS-main"
   ]
  },
  {
   "cell_type": "markdown",
   "metadata": {},
   "source": [
    "This is the main repository of Tiny Machine Learning as a Service project for Software Engineering Project course at University of Helsinki, summer 2023.\n",
    "\n",
    "![GitHub Actions](https://github.com/TinyMLaas/TinyMLaaS/actions/workflows/deploy_staging.yaml/badge.svg)\n",
    "\n",
    "## Overview\n",
    "The [GitHub pages](https://tinymlaas.github.io/TinyMLaaS/) describe the overview of the project and the functionality of the machine learning modules: training, compiling, installing and observing. \n",
    "\n",
    "## Repositories\n",
    " - [Backend](https://github.com/TinyMLaas/TinyML-backend)\n",
    " - [Frontend](https://github.com/TinyMLaas/TinyML-frontend)\n",
    " - [CLI](https://github.com/TinyMLaas/TinyML-CLI)\n",
    " - [MCU components](https://github.com/TinyMLaas/TinyML-MCU)\n",
    " \n",
    "## Documentation\n",
    " - [Way of Working](https://github.com/TinyMLaas/TinyMLaaS/blob/main/docs/1sprint/WoW.md)\n",
    " - [Product backlog](https://github.com/users/JeHugawa/projects/2/views/1)\n",
    " - [Working hours](https://docs.google.com/spreadsheets/d/1J1mJxM4wm9pnEoq1daXKhHpsEiAHHjz8Hl4N5ZgT6HM/edit#gid=1517018599)\n",
    " - [Database schema](https://dbdiagram.io/d/61b0bee48c901501c0e6e6dc)\n",
    " - [Suggestions for further development](https://github.com/TinyMLaas/TinyMLaaS/blob/main/docs/general/next_steps.md)\n",
    "\n",
    "## Running the project\n",
    "Use Docker to build and run the whole project. \n",
    "\n",
    "1. Clone this repository\n",
    "2. Run \n",
    "```bash\n",
    "docker compose up -d\n",
    "```\n",
    "\n",
    "This will set up both the backend and frontend, and a network between the two\n",
    "\n",
    "If the bridge is also needed on the same machine, use the [docker-compose-with-bridge.yml](./docker-compose-with-bridge.yml) file. This will build and run the frontend, backend and bridge and create a network between all three components.\n",
    "\n",
    "1. Clone this repository\n",
    "2. Run \n",
    "```bash\n",
    "docker compose up -f docker-compose-with-brdige.yml -d\n",
    "```\n",
    "\n",
    "### Running individual parts of the project\n",
    "See instructions in respective repositories for frontend, backend and the birdge / relay service for MCUs.\n",
    "\n",
    "- [Backend](https://github.com/TinyMLaas/TinyML-backend#instructions-for-running-the-application)\n",
    "- [Frontend](https://github.com/TinyMLaas/TinyML-frontend)\n",
    "- [MCUs](https://github.com/TinyMLaas/TinyML-MCU)\n",
    "- [CLI](https://github.com/TinyMLaas/TinyML-CLI)"
   ]
  },
  {
   "cell_type": "code",
   "execution_count": null,
   "metadata": {},
   "outputs": [],
   "source": [
    "#| hide\n",
    "import nbdev; nbdev.nbdev_export()"
   ]
  }
 ],
 "metadata": {
  "kernelspec": {
   "display_name": "Python 3 (ipykernel)",
   "language": "python",
   "name": "python3"
  },
  "language_info": {
   "codemirror_mode": {
    "name": "ipython",
    "version": 3
   },
   "file_extension": ".py",
   "mimetype": "text/x-python",
   "name": "python",
   "nbconvert_exporter": "python",
   "pygments_lexer": "ipython3",
   "version": "3.11.3"
  }
 },
 "nbformat": 4,
 "nbformat_minor": 4
}
