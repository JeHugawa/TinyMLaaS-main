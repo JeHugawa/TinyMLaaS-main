{
 "cells": [
  {
   "cell_type": "code",
   "execution_count": null,
   "metadata": {},
   "outputs": [],
   "source": [
    "#| hide\n",
    "from TinyMLaaS_main.core import *"
   ]
  },
  {
   "cell_type": "markdown",
   "metadata": {},
   "source": [
    "# TinyMLaaS-main\n",
    "\n",
    "> Tiny Machine Learning as a Service"
   ]
  },
  {
   "cell_type": "markdown",
   "metadata": {},
   "source": [
    "# TinyMLaaS\n",
    "![GitHub Actions](https://github.com/TinyMLaas/TinyMLaaS/actions/workflows/deploy_staging.yaml/badge.svg)\n",
    " - [Backend](https://github.com/JeHugawa/TinyML-backend)\n",
    " - [Frontend](https://github.com/JeHugawa/TinyML-frontend)\n",
    " - [MCU components](https://github.com/JeHugawa/TinyML-MCU)\n",
    "\n",
    "## Documentations\n",
    " - [Way of Working](/docs/1sprint/WoW.md)\n",
    " - [Product backlog](https://github.com/users/JeHugawa/projects/2/views/1)\n",
    " - [Working hours](https://docs.google.com/spreadsheets/d/1J1mJxM4wm9pnEoq1daXKhHpsEiAHHjz8Hl4N5ZgT6HM/edit#gid=1517018599)\n",
    " - [Database schema](https://dbdiagram.io/d/61b0bee48c901501c0e6e6dc)\n",
    "\n",
    "\n",
    "## Install\n",
    "\n",
    "install Requirements\n",
    "\n",
    "[TODO nbdev instructions]\n",
    "\n",
    "[TODO mock database]\n",
    "\n",
    "## How to use\n",
    "\n",
    "``` sh\n",
    "nbdev_export\n",
    "```\n",
    "then copy the files in TinyMLaaS_main to the backend\n"
   ]
  }
 ],
 "metadata": {
  "kernelspec": {
   "display_name": "python3",
   "language": "python",
   "name": "python3"
  }
 },
 "nbformat": 4,
 "nbformat_minor": 4
}
