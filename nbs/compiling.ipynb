{
 "cells": [
  {
   "cell_type": "code",
   "execution_count": null,
   "id": "54159567-0f91-4cea-91a2-97d2e01695aa",
   "metadata": {},
   "outputs": [],
   "source": [
    "#| default_exp compiling"
   ]
  },
  {
   "cell_type": "code",
   "execution_count": null,
   "id": "721cfb84-64fd-4fcc-a5ad-f8d3314c6e02",
   "metadata": {},
   "outputs": [
    {
     "name": "stderr",
     "output_type": "stream",
     "text": [
      "2023-05-30 12:11:25.615074: I tensorflow/tsl/cuda/cudart_stub.cc:28] Could not find cuda drivers on your machine, GPU will not be used.\n",
      "2023-05-30 12:11:25.667018: I tensorflow/tsl/cuda/cudart_stub.cc:28] Could not find cuda drivers on your machine, GPU will not be used.\n",
      "2023-05-30 12:11:25.667832: I tensorflow/core/platform/cpu_feature_guard.cc:182] This TensorFlow binary is optimized to use available CPU instructions in performance-critical operations.\n",
      "To enable the following instructions: AVX2 FMA, in other operations, rebuild TensorFlow with the appropriate compiler flags.\n",
      "2023-05-30 12:11:26.516834: W tensorflow/compiler/tf2tensorrt/utils/py_utils.cc:38] TF-TRT Warning: Could not find TensorRT\n"
     ]
    }
   ],
   "source": [
    "#| export\n",
    "import subprocess\n",
    "import tensorflow as tf\n",
    "import os\n",
    "import pandas as pd\n",
    "import binascii"
   ]
  },
  {
   "cell_type": "code",
   "execution_count": null,
   "id": "192ead72-9230-425a-931c-050fdf07017c",
   "metadata": {},
   "outputs": [],
   "source": [
    "#| export\n",
    "\n",
    "def convert_model(train_ds, model_path, model_obj):\n",
    "    \"\"\"Model conversion into TFLite model\n",
    "nbdev\n",
    "    Args:\n",
    "        `train_ds` (_dataset_): Training data used for the quantization process\n",
    "        `model_path`: Path to model files\n",
    "        `model_obj`: model object, needed for input_shape\n",
    "    \"\"\"\n",
    "\n",
    "    model = f'{model_path}/keras_model'\n",
    "    \n",
    "    # Convert the model to the TensorFlow Lite format without quantization\n",
    "    converter = tf.lite.TFLiteConverter.from_saved_model(model)\n",
    "    model_no_quant_tflite = converter.convert()\n",
    "    # Save the model to disk\n",
    "    open(f'{model_path}/model_no_quant.tflite', \"wb\").write(model_no_quant_tflite)\n",
    "\n",
    "    # Convert the model with quantization.\n",
    "    converter = tf.lite.TFLiteConverter.from_saved_model(model)\n",
    "    converter.optimizations = [tf.lite.Optimize.DEFAULT]\n",
    "    \n",
    "    converter.target_spec.supported_ops = [tf.lite.OpsSet.TFLITE_BUILTINS_INT8]\n",
    "    converter.inference_input_type = tf.int8\n",
    "    converter.inference_output_type = tf.int8\n",
    "    \n",
    "    input_shape = model_obj.layers[0].input_shape\n",
    "    \n",
    "    def representative_dataset():\n",
    "        for images, labels in train_ds.take(96):\n",
    "            for img in images:\n",
    "                input = tf.cast(img, tf.float32)\n",
    "                input = tf.reshape(input, [1, input_shape[1],input_shape[2]])\n",
    "                yield([input])\n",
    "\n",
    "    converter.representative_dataset = representative_dataset\n",
    "    tflite_model = converter.convert()\n",
    "\n",
    "    # Save the model.\n",
    "    with open(f'{model_path}/model.tflite', 'wb') as f:\n",
    "        f.write(tflite_model)\n",
    "\n",
    "def convert_to_c_array(bytes)->str:\n",
    "    \"\"\"C array conversion\"\"\"\n",
    "    hexstr = binascii.hexlify(bytes).decode(\"UTF-8\") \n",
    "    hexstr = hexstr.upper() \n",
    "    array = [\"0x\" + hexstr[i:i + 2] for i in range(0, len(hexstr), 2)] \n",
    "    array = [array[i:i+10] for i in range(0, len(array), 10)] \n",
    "    return \",\\n  \".join([\", \".join(e) for e in array])\n",
    "\n",
    "def convert_model_to_cc(model_path : str):\n",
    "    \"\"\"Creates model.cc from model.tflite in folder `model_path`\"\"\"\n",
    "    tflite_binary = open(f'{model_path}/model.tflite', 'rb').read()\n",
    "    ascii_bytes = convert_to_c_array(tflite_binary)\n",
    "    header_file = \"#include \\\"person_detect_model_data.h\\\"\\nconst unsigned char model_tflite[] = {\\n  \" + ascii_bytes + \"\\n};\\nunsigned int model_tflite_len = \" + str(len(tflite_binary)) + \";\"\n",
    "    with open(f\"{model_path}/model.cc\", \"w\") as f:\n",
    "        f.write(header_file)\n",
    "\n",
    "def plot_size(model_path):\n",
    "    \"\"\"Plots the size difference before and after quantization\n",
    "    Args:\n",
    "        `model_path`: Path to model files\n",
    "    Returns:\n",
    "        pandas dataframe: Pandas dataframe containing information\n",
    "    \"\"\"\n",
    "\n",
    "    size_no_quant_tflite = os.path.getsize(f'{model_path}/model_no_quant.tflite')\n",
    "    size_tflite = os.path.getsize(f'{model_path}/model.tflite')\n",
    "    \n",
    "    frame = pd.DataFrame.from_records(\n",
    "        [[\"TensorFlow Lite\", f\"{size_no_quant_tflite} bytes \"],\n",
    "        [\"TensorFlow Lite Quantized\", f\"{size_tflite} bytes\", f\"{size_no_quant_tflite - size_tflite} bytes\"]],\n",
    "        columns = [\"Model\", \"Size\", \"Size Reduced\"], index=\"Model\")\n",
    "\n",
    "    return frame\n"
   ]
  }
 ],
 "metadata": {
  "kernelspec": {
   "display_name": "tinyml",
   "language": "python",
   "name": "tinyml"
  }
 },
 "nbformat": 4,
 "nbformat_minor": 5
}
