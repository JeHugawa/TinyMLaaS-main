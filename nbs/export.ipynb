{
 "cells": [
  {
   "cell_type": "code",
   "execution_count": null,
   "id": "f6e11040-389f-4a90-be01-8f4d4ff0bf6a",
   "metadata": {},
   "outputs": [],
   "source": [
    "#|default_exp export"
   ]
  },
  {
   "cell_type": "code",
   "execution_count": null,
   "id": "de2c7878-c96c-4436-932d-d49bf43a3fff",
   "metadata": {},
   "outputs": [],
   "source": [
    "#|export\n",
    "from __future__ import annotations"
   ]
  },
  {
   "cell_type": "code",
   "execution_count": null,
   "id": "952ab1cb-c630-4a5c-8640-a4167d0c6f3b",
   "metadata": {},
   "outputs": [],
   "source": [
    "#|export\n",
    "from nbdev.process import *\n",
    "from nbdev.imports import *\n",
    "from nbdev.maker import *"
   ]
  },
  {
   "cell_type": "code",
   "execution_count": null,
   "id": "4a7e8614-26a1-4526-b08c-0ecdb043cf51",
   "metadata": {},
   "outputs": [],
   "source": [
    "_test_file = \"00_core.ipynb\""
   ]
  },
  {
   "cell_type": "code",
   "execution_count": null,
   "id": "c87382c8-4f12-4d25-b5ed-210b0d2609ac",
   "metadata": {},
   "outputs": [],
   "source": [
    "#|export\n",
    "from collections import defaultdict\n",
    "from fastcore.foundation import L, ifnone\n",
    "from execnb.nbio import *\n",
    "\n",
    "class ExportTestProc:\n",
    "    \"A test proc that watches for `#|default_exp` and `#|test`\"\n",
    "    def __init__(self): self.tests = defaultdict(L)\n",
    "    def _default_exp_(self, cell, exp_to): self.default_exp = f'test_{exp_to}'\n",
    "    def _test_(self, cell, exp_to=None, nm=None, tst_cls=None): self.tests[self.default_exp].append(cell)"
   ]
  },
  {
   "cell_type": "code",
   "execution_count": null,
   "id": "3f8304a3-f7f8-4afb-bf1c-c608e0386c3e",
   "metadata": {},
   "outputs": [],
   "source": [
    "#|export\n",
    "_re_test = re.compile(r'#\\|\\s*test\\s*$', re.MULTILINE)\n",
    "_re_import = re.compile(r'#\\|\\s*test\\s*import\\s*$', re.MULTILINE)\n",
    "_tab = \"    \""
   ]
  },
  {
   "cell_type": "code",
   "execution_count": null,
   "id": "0b75bce9-e80f-475e-a137-4c93df35b483",
   "metadata": {},
   "outputs": [],
   "source": [
    "#|export\n",
    "def get_directive(cell, key, default=None): \n",
    "    \"Extract a top level directive from `cell`\"\n",
    "    return cell.directives_.get(key, default)\n",
    "\n",
    "def _is_test_cell(cell): return cell.cell_type == \"code\" and get_directive(cell,'test')"
   ]
  },
  {
   "cell_type": "code",
   "execution_count": null,
   "id": "d24abcde-fea3-4429-8284-b1f717efd53d",
   "metadata": {},
   "outputs": [],
   "source": [
    "def _mark_test(s):\n",
    "    ft = exec_new(\"import fastcore.test as ft\")[\"ft\"].__all__\n",
    "    kinds = [(o,f'ft.{o}') for o in ft if o.startswith(\"test_\")]\n",
    "    for k,v in kinds: s = s.replace(k,v)\n",
    "    return s"
   ]
  },
  {
   "cell_type": "code",
   "execution_count": null,
   "id": "5349f819-9c29-4b64-88a2-70b53713c543",
   "metadata": {},
   "outputs": [],
   "source": [
    "#|export\n",
    "def convert_pytest(cell, unittest=False):\n",
    "    \"Wraps cell contents into a pytest function\"\n",
    "    directive = get_directive(cell, \"test\")\n",
    "    if _is_test_cell(cell):\n",
    "        if \"import\" not in directive and \"case\" not in directive:\n",
    "            content = '\\n'.join([f\"{_tab}{c}\" for c in cell.source.split(\"\\n\")])\n",
    "            content = _mark_test(content)\n",
    "            if unittest: cell.source = f'def test_{directive[0]}(self):\\n{content}'\n",
    "            else: cell.source = f'def test_{directive[0]}():\\n{content}'\n",
    "        else:\n",
    "            cell.source = cell.source.replace(\"from fastcore.test import *\", \"import fastcore.test as ft\")"
   ]
  },
  {
   "cell_type": "code",
   "execution_count": null,
   "id": "2a55eb81-a454-4163-b4f4-a6fa9d449fba",
   "metadata": {},
   "outputs": [],
   "source": [
    "#|export\n",
    "_re_defaultexp = re.compile(r'^\\s*#\\|\\s*default_exp\\s+(\\S+)', flags=re.MULTILINE)\n",
    "def _default_exp(nb):\n",
    "    \"get the default_exp from a notebook\"\n",
    "    code_src = nb.cells.filter(lambda x: x.cell_type == 'code').attrgot('source')\n",
    "    default_exp = first(code_src.filter().map(_re_defaultexp.search).filter())\n",
    "    return default_exp.group(1) if default_exp else None\n",
    "    "
   ]
  },
  {
   "cell_type": "code",
   "execution_count": null,
   "id": "b4e35440-939d-40a8-8286-46d19cf8ad6b",
   "metadata": {},
   "outputs": [],
   "source": [
    "#|export\n",
    "def construct_imports(nb, unittest=False):\n",
    "    \"Generates the test imports for the notebook\"\n",
    "    libname = get_config().lib_name\n",
    "    exp = _default_exp(nb)\n",
    "    imports = ['#| test import\\n', f'from {libname}.{exp} import *\\n']\n",
    "    if unittest: imports += ['import unittest']\n",
    "    nb.cells.insert(1, mk_cell(imports))"
   ]
  },
  {
   "cell_type": "code",
   "execution_count": null,
   "id": "b0106e48-fcf4-4f9c-94cd-5294905d7709",
   "metadata": {},
   "outputs": [],
   "source": [
    "#|export\n",
    "def create_test_modules(path, dest, debug=False, mod_maker=ModuleMaker, unittest=False):\n",
    "    \"Creates test files from path, optionally with unittest support\"\n",
    "    exp = ExportTestProc()\n",
    "    procs = [exp, functools.partial(convert_pytest, unittest=unittest)]\n",
    "\n",
    "    if unittest: procs.append(convert_unittest)\n",
    "\n",
    "    class InsertWarning(Processor):\n",
    "        content = functools.partial(construct_imports, unittest=unittest)\n",
    "        def begin(self): self.nb.cells.insert(1, mk_cell(self.content, 'markdown'))\n",
    "    \n",
    "    nb = NBProcessor(path, procs)\n",
    "    insert_warning = InsertWarning(nb)\n",
    "    nb.preprocs = insert_warning\n",
    "    nb.process()\n",
    "    for i,(mod,cells) in enumerate(exp.tests.items()):\n",
    "        mm = mod_maker(dest=dest, name=exp.default_exp, nb_path=path, is_new=i==0, parse=False)\n",
    "        mm.make(cells)"
   ]
  },
  {
   "cell_type": "code",
   "execution_count": null,
   "id": "a8381416-9c34-4b12-9b76-6f9b5cc9ad6d",
   "metadata": {},
   "outputs": [],
   "source": [
    "\n",
    "#|eval: false\n",
    "create_test_modules(_test_file, \"tests\")"
   ]
  },
  {
   "cell_type": "code",
   "execution_count": null,
   "id": "0ce1da48-3add-415d-a4bf-a32fddd71ddc",
   "metadata": {},
   "outputs": [],
   "source": [
    "#| hide\n",
    "import nbdev; nbdev.nbdev_export()"
   ]
  },
  {
   "cell_type": "code",
   "execution_count": null,
   "id": "a8d0865b-7012-4d8e-9256-201227bee846",
   "metadata": {},
   "outputs": [],
   "source": [
    "!pytest tests/"
   ]
  }
 ],
 "metadata": {
  "kernelspec": {
   "display_name": "python3",
   "language": "python",
   "name": "python3"
  }
 },
 "nbformat": 4,
 "nbformat_minor": 5
}
