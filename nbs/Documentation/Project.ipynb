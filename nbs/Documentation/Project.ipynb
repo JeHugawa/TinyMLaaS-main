{
 "cells": [
  {
   "cell_type": "code",
   "execution_count": null,
   "metadata": {},
   "outputs": [],
   "source": [
    "#| hide\n",
    "from nbdev.showdoc import *\n",
    "import os\n",
    "from IPython.display import Markdown, display\n",
    "\n",
    "path = \"../../docs/general\"\n",
    "\n",
    "files = os.listdir(path)\n",
    "\n",
    "md_files = [f for f in files if \".md\" in f]\n",
    "\n",
    "for f in md_files:\n",
    "    display(Markdown(f\"{path}/{f}\"))"
   ]
  }
 ],
 "metadata": {
  "kernelspec": {
   "display_name": "python3",
   "language": "python",
   "name": "python3"
  }
 },
 "nbformat": 4,
 "nbformat_minor": 4
}
