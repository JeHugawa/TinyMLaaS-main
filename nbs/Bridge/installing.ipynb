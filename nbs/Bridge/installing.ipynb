{
 "cells": [
  {
   "cell_type": "code",
   "execution_count": null,
   "metadata": {},
   "outputs": [],
   "source": [
    "#| default_export installing"
   ]
  },
  {
   "cell_type": "code",
   "execution_count": null,
   "metadata": {},
   "outputs": [],
   "source": [
    "#| export\n",
    "import docker\n",
    "import getpass\n",
    "\n",
    "# uncomment this when using with MCU\n",
    "# from .device import get_device_port\n",
    "\n",
    "DOCKERHUB_USER = \"ohtuprojtinymlaas\""
   ]
  },
  {
   "attachments": {},
   "cell_type": "markdown",
   "metadata": {},
   "source": [
    "The bridge uses Docker in Docker (dind) to spin up a container and using that to install the model on an Arduino."
   ]
  },
  {
   "cell_type": "code",
   "execution_count": null,
   "metadata": {},
   "outputs": [],
   "source": [
    "#| export\n",
    "\n",
    "def install_inference(device: dict, model: str):\n",
    "    \"\"\"Select the appropriate installer for the device\n",
    "    and call that installer\"\"\"\n",
    "    installers = {\n",
    "        \"RPI\": upload_rpi,\n",
    "        \"Arduino IDE\": arduino_installer\n",
    "    }\n",
    "    installer = device[\"installer\"]\n",
    "    try:\n",
    "        installers[installer](device, model)\n",
    "    except KeyError:\n",
    "        return False\n",
    "    except ValueError:\n",
    "        return False\n",
    "    finally:\n",
    "        return True\n",
    "\n",
    "\n",
    "def arduino_installer(device: dict, compiled_model: str):\n",
    "    \"\"\"Install the wanted model to a Arduino\n",
    "    \"\"\"\n",
    "\n",
    "    port = get_device_port(device[\"serial\"])\n",
    "    with open(\"arduino/template/target_model.cpp\", \"w\") as file:\n",
    "        file.write(compiled_model)\n",
    "    client = docker.from_env()\n",
    "    try:\n",
    "        res = client.images.build(path=\"arduino/\", tag=\"nano33ble\")\n",
    "        print(res)\n",
    "    except docker.errors.BuildError as e:\n",
    "        print(\"Error while building\", e)\n",
    "    try:\n",
    "        res = client.containers.run(\n",
    "            image=\"nano33ble\",\n",
    "            command=f\"upload -p {port} --fqbn arduino:mbed_nano:nano33ble template\",\n",
    "            devices=[f\"{port}:{port}:rw\"]\n",
    "        )\n",
    "        print(res)\n",
    "    except Exception as e:\n",
    "        print(e)\n",
    "\n",
    "\n",
    "def upload_rpi():\n",
    "    \"\"\"Uploads compiled person detection uf2 file to device. \n",
    "    The device must be in the USB Mass Storage Mode and `device_path` should be the absolute path \n",
    "    at which the device is mounted at.\n",
    "    \"\"\"\n",
    "    \n",
    "    # This can actually get mounted elsewhere, perhaps you could find the path by looking for the files that exist in that directory\n",
    "    device_path = f\"/media/{getpass.getuser()}/RPI-RP2\"\n",
    "    docker_img = f\"{DOCKERHUB_USER}/pico\"\n",
    "    subprocess.run([f\"docker pull {docker_img}\"], shell=True)\n",
    "    # this mounts the device_path inside the container and copies the uf2 file from the container to device_path\n",
    "    cmd = f\"docker run --rm -v {device_path}:/opt/mount --entrypoint cp {docker_img} person_detection_screen_int8.uf2 /opt/mount/app.uf2\"\n",
    "    subprocess.run([cmd], shell=True)\n"
   ]
  }
 ],
 "metadata": {
  "language_info": {
   "name": "python"
  },
  "orig_nbformat": 4
 },
 "nbformat": 4,
 "nbformat_minor": 2
}
