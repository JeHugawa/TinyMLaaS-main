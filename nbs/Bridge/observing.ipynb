{
 "cells": [
  {
   "cell_type": "code",
   "execution_count": null,
   "metadata": {},
   "outputs": [],
   "source": [
    "#| default_exp observing"
   ]
  },
  {
   "cell_type": "code",
   "execution_count": null,
   "metadata": {},
   "outputs": [],
   "source": [
    "#| export\n",
    "from serial import Serial\n",
    "\n",
    "# uncomment this when using with MCU\n",
    "# from .components.device import get_device_port"
   ]
  },
  {
   "cell_type": "code",
   "execution_count": null,
   "metadata": {},
   "outputs": [],
   "source": [
    "\n",
    "#| export\n",
    "__all__ = ['read_prediction_from_port']\n",
    "\n",
    "def read_prediction_from_port(port:str):\n",
    "    \"\"\"Reads a single prediction line over serial from the MCU device\n",
    "    and returns dict containing scores with keys `Person` and `No person`. \n",
    "    Returns None if serial fails.\"\"\"\n",
    "\n",
    "    try:\n",
    "        with Serial(port, baudrate=19200, timeout=1) as ser:\n",
    "            output = ser.readline().decode(\"ascii\").strip()\n",
    "            parts = output.split(\" \")\n",
    "\n",
    "            return {\"1\":float(parts[2][:-1]), \"0\":float(parts[6][:-1])}\n",
    "\n",
    "    except Exception as the_exception:\n",
    "        print(the_exception)\n",
    "        \n",
    "        return None\n"
   ]
  }
 ],
 "metadata": {},
 "nbformat": 4,
 "nbformat_minor": 2
}
